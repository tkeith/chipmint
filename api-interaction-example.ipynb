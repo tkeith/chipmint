{
 "cells": [
  {
   "cell_type": "code",
   "execution_count": 45,
   "id": "5195ab5c-8b6f-4e7e-8796-550238206440",
   "metadata": {},
   "outputs": [],
   "source": [
    "import requests\n",
    "import time\n",
    "import random\n",
    "\n",
    "prefix = 'http://node:8002'\n",
    "phone_num = '16173834221'\n",
    "addr = '0x108C9FCd65e80c9999B34F85888861B4E20AA54d'\n",
    "sender = '0x23D9E89D457404dB99b6addC8638cc0e4368Bb5a'"
   ]
  },
  {
   "cell_type": "code",
   "execution_count": 46,
   "id": "b5644693-d073-4707-b578-d0b031177625",
   "metadata": {},
   "outputs": [
    {
     "data": {
      "text/plain": [
       "<Response [200]>"
      ]
     },
     "execution_count": 46,
     "metadata": {},
     "output_type": "execute_result"
    }
   ],
   "source": [
    "requests.post(prefix + '/requestOtp',\n",
    "            json={'phoneNumber': phone_num})"
   ]
  },
  {
   "cell_type": "code",
   "execution_count": 47,
   "id": "c8d313c2-05af-4b15-9851-ac5913712d2e",
   "metadata": {},
   "outputs": [
    {
     "name": "stdout",
     "output_type": "stream",
     "text": [
      "<Response [200]>\n",
      "{'otpValid': False}\n"
     ]
    }
   ],
   "source": [
    "incorrect_otp = '999999'\n",
    "res = requests.get(prefix + '/checkOtp/' + phone_num + '/' + incorrect_otp)\n",
    "print(res)\n",
    "print(res.json())"
   ]
  },
  {
   "cell_type": "code",
   "execution_count": 52,
   "id": "c23c7d38-0959-4af8-bf25-1d081e0bff59",
   "metadata": {},
   "outputs": [
    {
     "name": "stdout",
     "output_type": "stream",
     "text": [
      "<Response [200]>\n",
      "{'otpValid': True, 'messageToSign': 'Chipmint - verify phone number: 16173834221'}\n"
     ]
    }
   ],
   "source": [
    "correct_otp = '123456'\n",
    "res = requests.get(prefix + '/checkOtp/' + phone_num + '/' + correct_otp)\n",
    "print(res)\n",
    "print(res.json())"
   ]
  },
  {
   "cell_type": "code",
   "execution_count": 56,
   "id": "7b4b9817-c67b-4049-81f5-21a7e8491707",
   "metadata": {},
   "outputs": [
    {
     "name": "stdout",
     "output_type": "stream",
     "text": [
      "<Response [200]>\n",
      "{'note': 'Phone number verified'}\n"
     ]
    }
   ],
   "source": [
    "res = requests.post(prefix + '/registerVerification',\n",
    "            json={\n",
    "                'phoneNumber': phone_num,\n",
    "                'otp': correct_otp,\n",
    "                'signature': 'valid_signature_for:' + addr + ':' + str(random.randint(0, 999999))\n",
    "            })\n",
    "print(res)\n",
    "print(res.json())"
   ]
  },
  {
   "cell_type": "code",
   "execution_count": 57,
   "id": "cbea20c8-1294-41ca-a846-c8621ca83501",
   "metadata": {},
   "outputs": [
    {
     "name": "stdout",
     "output_type": "stream",
     "text": [
      "<Response [200]>\n",
      "{'verified': True}\n"
     ]
    }
   ],
   "source": [
    "res = requests.get(prefix + '/isAddressVerified/' + addr)\n",
    "print(res)\n",
    "print(res.json())"
   ]
  },
  {
   "cell_type": "code",
   "execution_count": 58,
   "id": "e6c5ca1f-487c-429e-ac0a-c12eff18a384",
   "metadata": {},
   "outputs": [
    {
     "name": "stdout",
     "output_type": "stream",
     "text": [
      "<Response [200]>\n",
      "{'verified': False}\n"
     ]
    }
   ],
   "source": [
    "# random non-verified address\n",
    "res = requests.get(prefix + '/isAddressVerified/0xc36b4311b21fc0c2ead46f1ea6ce97c9c4d98d3d')\n",
    "print(res)\n",
    "print(res.json())"
   ]
  },
  {
   "cell_type": "code",
   "execution_count": 59,
   "id": "c7569d07-6d89-4206-9db1-0bb4ae4f047c",
   "metadata": {},
   "outputs": [
    {
     "name": "stdout",
     "output_type": "stream",
     "text": [
      "<Response [200]>\n",
      "{'authorized': False}\n"
     ]
    }
   ],
   "source": [
    "res = requests.get(prefix + '/isAuthorized/' + sender + '/' + addr)\n",
    "print(res)\n",
    "print(res.json())"
   ]
  },
  {
   "cell_type": "code",
   "execution_count": 63,
   "id": "8fe37ecd-7f08-46a3-8f7b-009ad6bc9130",
   "metadata": {},
   "outputs": [
    {
     "name": "stdout",
     "output_type": "stream",
     "text": [
      "<Response [200]>\n",
      "{'message': 'Chipmint SMS authorization request\\nNumber of messages: 10\\nExpiration: 2022-08-09T21:56:52.000Z\\nSender: 0x23D9E89D457404dB99b6addC8638cc0e4368Bb5a'}\n",
      "\n",
      "Chipmint SMS authorization request\n",
      "Number of messages: 10\n",
      "Expiration: 2022-08-09T21:56:52.000Z\n",
      "Sender: 0x23D9E89D457404dB99b6addC8638cc0e4368Bb5a\n"
     ]
    }
   ],
   "source": [
    "exp = int(time.time() + 600)\n",
    "qty = 10\n",
    "\n",
    "res = requests.get(prefix + '/getAuthorizationMessageToSign', params={\n",
    "    \"sender\": sender,\n",
    "    \"qty\": qty,\n",
    "    \"exp\": exp\n",
    "})\n",
    "print(res)\n",
    "print(res.json())\n",
    "print()\n",
    "print(res.json()['message'])"
   ]
  },
  {
   "cell_type": "code",
   "execution_count": 66,
   "id": "0253431e-ff99-4024-9d97-7ec62b2caa3a",
   "metadata": {},
   "outputs": [
    {
     "name": "stdout",
     "output_type": "stream",
     "text": [
      "<Response [200]>\n",
      "{'note': 'Authorization registered'}\n"
     ]
    }
   ],
   "source": [
    "res = requests.post(prefix + '/registerAuthorization',\n",
    "            json={\n",
    "                'sender': sender,\n",
    "                'qty': qty,\n",
    "                'exp': exp,\n",
    "                'signature': 'valid_signature_for:' + addr + ':' + str(random.randint(0, 999999))\n",
    "            })\n",
    "print(res)\n",
    "print(res.json())"
   ]
  },
  {
   "cell_type": "code",
   "execution_count": null,
   "id": "ab3b87af-0249-49f8-a6c8-d76a1508d2f8",
   "metadata": {},
   "outputs": [],
   "source": []
  }
 ],
 "metadata": {
  "kernelspec": {
   "display_name": "Python 3 (ipykernel)",
   "language": "python",
   "name": "python3"
  },
  "language_info": {
   "codemirror_mode": {
    "name": "ipython",
    "version": 3
   },
   "file_extension": ".py",
   "mimetype": "text/x-python",
   "name": "python",
   "nbconvert_exporter": "python",
   "pygments_lexer": "ipython3",
   "version": "3.9.2"
  }
 },
 "nbformat": 4,
 "nbformat_minor": 5
}
